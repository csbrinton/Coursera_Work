{
 "cells": [
  {
   "cell_type": "markdown",
   "id": "32b8a2a6",
   "metadata": {},
   "source": [
    "# Data Science Tools and Ecosystem"
   ]
  },
  {
   "cell_type": "markdown",
   "id": "5e04ffd3",
   "metadata": {},
   "source": [
    "## Author\n",
    "Catherine Sarah Brinton - 5/1/2023"
   ]
  },
  {
   "cell_type": "markdown",
   "id": "ebf5faf2",
   "metadata": {},
   "source": [
    "In this notebook, Data Science Tools and Ecosystem are summarized."
   ]
  },
  {
   "cell_type": "markdown",
   "id": "c49095bf",
   "metadata": {},
   "source": [
    "#### Objectives:\n",
    " - Popular Languages of Data Scientists\n",
    " - Popular Libraries of Data Scientists\n",
    " - Popular Data Science Tools\n",
    " - Examples of Simple Arithmatic Experessions"
   ]
  },
  {
   "cell_type": "markdown",
   "id": "6239d186",
   "metadata": {},
   "source": [
    "Some of the popular languages that Data Scientists use are:\n",
    "\n",
    "1. Python\n",
    "2. R\n",
    "3. SQL"
   ]
  },
  {
   "cell_type": "markdown",
   "id": "51bfb952",
   "metadata": {},
   "source": [
    "Some of the commonly used libraries used by Data Scientists include:\n",
    "\n",
    "1. Pandas\n",
    "2. NumPy\n",
    "3. Matplotlib\n",
    "4. SciPy\n",
    "5. Seaborn\n",
    "6. Scikit\n",
    "7. Keras\n",
    "8. TensorFlow\n",
    "9. Pytorch\n",
    "10. Apache Spark\n",
    "\n"
   ]
  },
  {
   "cell_type": "markdown",
   "id": "2c27989d",
   "metadata": {},
   "source": [
    "|Data Science Tools|\n",
    "|------------------|\n",
    "|Jupyter Lab|\n",
    "|Jupyter Notebooks|\n",
    "|Apache Zeppelin|\n",
    "|RStudio|\n",
    "|Apache Spark|"
   ]
  },
  {
   "cell_type": "markdown",
   "id": "cb14969d",
   "metadata": {},
   "source": [
    "### Below are a few examples of evaluating arithmatic expressions in Python:"
   ]
  },
  {
   "cell_type": "code",
   "execution_count": 6,
   "id": "e78774da",
   "metadata": {},
   "outputs": [
    {
     "data": {
      "text/plain": [
       "17"
      ]
     },
     "execution_count": 6,
     "metadata": {},
     "output_type": "execute_result"
    }
   ],
   "source": [
    "#This is a simple expression to multiply and add integers\n",
    "\n",
    "(3*4)+5\n"
   ]
  },
  {
   "cell_type": "code",
   "execution_count": 7,
   "id": "7f77d9b0",
   "metadata": {},
   "outputs": [
    {
     "name": "stdout",
     "output_type": "stream",
     "text": [
      "3.3333333333333335\n"
     ]
    }
   ],
   "source": [
    "#Convert 200 min to hours\n",
    "#Given 60 min per hour\n",
    "\n",
    "hours= 200/60\n",
    "print(hours)\n"
   ]
  },
  {
   "cell_type": "markdown",
   "id": "2c42ac5a",
   "metadata": {},
   "source": []
  }
 ],
 "metadata": {},
 "nbformat": 4,
 "nbformat_minor": 5
}
